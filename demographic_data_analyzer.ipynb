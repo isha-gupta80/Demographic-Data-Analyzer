{
 "cells": [
  {
   "cell_type": "code",
   "execution_count": 2,
   "id": "0042ab00",
   "metadata": {},
   "outputs": [],
   "source": [
    "#Basics of data analysis with pandas \n",
    "import pandas as pd \n",
    "df=pd.read_csv('adult.data.csv')"
   ]
  },
  {
   "cell_type": "code",
   "execution_count": 4,
   "id": "f120ff89",
   "metadata": {},
   "outputs": [
    {
     "name": "stdout",
     "output_type": "stream",
     "text": [
      "race\n",
      "White                 27816\n",
      "Black                  3124\n",
      "Asian-Pac-Islander     1039\n",
      "Amer-Indian-Eskimo      311\n",
      "Other                   271\n",
      "Name: count, dtype: int64\n"
     ]
    }
   ],
   "source": [
    "race_count = df['race'].value_counts()\n",
    "print(race_count)"
   ]
  },
  {
   "cell_type": "code",
   "execution_count": 6,
   "id": "0eafedee",
   "metadata": {},
   "outputs": [
    {
     "name": "stdout",
     "output_type": "stream",
     "text": [
      "\n",
      "The average age of men is 39\n"
     ]
    }
   ],
   "source": [
    "average_age_men = df[df['sex'] == 'Male']['age'].mean()\n",
    "print(f\"\\nThe average age of men is {average_age_men:.0f}\")"
   ]
  },
  {
   "cell_type": "code",
   "execution_count": 7,
   "id": "a326c119",
   "metadata": {},
   "outputs": [
    {
     "name": "stdout",
     "output_type": "stream",
     "text": [
      "\n",
      "The percentage of people who have a Bachelor's degree is 16.45%\n"
     ]
    }
   ],
   "source": [
    "total = df['education'].count()\n",
    "bachelors_count = df[df['education'] == 'Bachelors']['education'].count()\n",
    "bachelors_percentage = (bachelors_count / total) * 100\n",
    "print(f\"\\nThe percentage of people who have a Bachelor's degree is { bachelors_percentage:.2f}%\")"
   ]
  },
  {
   "cell_type": "code",
   "execution_count": 8,
   "id": "354b2827",
   "metadata": {},
   "outputs": [],
   "source": [
    "gher_education = df[df['education'].isin(['Bachelors', 'Masters', 'Doctorate'])]['education']\n",
    "higher_education = gher_education.count()\n"
   ]
  },
  {
   "cell_type": "code",
   "execution_count": 9,
   "id": "d9fea3a5",
   "metadata": {},
   "outputs": [],
   "source": [
    "higher_education_rich = df[\n",
    "    (df['education'].isin(['Bachelors', 'Masters', 'Doctorate'])) & \n",
    "    (df['salary'] == '>50K')\n",
    "].shape[0]\n"
   ]
  },
  {
   "cell_type": "code",
   "execution_count": 10,
   "id": "d643b690",
   "metadata": {},
   "outputs": [
    {
     "name": "stdout",
     "output_type": "stream",
     "text": [
      "\n",
      "Percentage of people with advanced education who make more than 50K: 46.54%\n"
     ]
    }
   ],
   "source": [
    "perc_adv = (higher_education_rich / higher_education) * 100\n",
    "print(f\"\\nPercentage of people with advanced education who make more than 50K: {perc_adv:.2f}%\")\n"
   ]
  },
  {
   "cell_type": "code",
   "execution_count": 11,
   "id": "8ebec482",
   "metadata": {},
   "outputs": [
    {
     "name": "stdout",
     "output_type": "stream",
     "text": [
      "\n",
      "Percentage of people with lower education earning more than 50K: 17.37%\n"
     ]
    }
   ],
   "source": [
    "low_edu = total - higher_education\n",
    "low_sal = df[df['salary'] == '>50K'].shape[0] - higher_education_rich\n",
    "perc_low = (low_sal / low_edu) * 100\n",
    "print(f\"\\nPercentage of people with lower education earning more than 50K: { perc_low:.2f}%\")"
   ]
  },
  {
   "cell_type": "code",
   "execution_count": 12,
   "id": "872b0e92",
   "metadata": {},
   "outputs": [
    {
     "name": "stdout",
     "output_type": "stream",
     "text": [
      "\n",
      "The minimum number of hours a person works per week is 1\n"
     ]
    }
   ],
   "source": [
    "minimum_hours_per_week = df['hours-per-week'].min()\n",
    "print(f\"\\nThe minimum number of hours a person works per week is {minimum_hours_per_week}\")"
   ]
  },
  {
   "cell_type": "code",
   "execution_count": 13,
   "id": "5558a5e2",
   "metadata": {},
   "outputs": [
    {
     "name": "stdout",
     "output_type": "stream",
     "text": [
      "\n",
      "The percentage of people working minimum hours but earning >50K is 10.00%\n"
     ]
    }
   ],
   "source": [
    "total_peop_min_hr = df[df['hours-per-week'] == minimum_hours_per_week]['hours-per-week'].count()\n",
    "high_Sal = df[(df['salary'] == '>50K') & (df['hours-per-week'] == minimum_hours_per_week)].shape[0]\n",
    "percentage = (high_Sal / total_peop_min_hr) * 100\n",
    "print(f\"\\nThe percentage of people working minimum hours but earning >50K is {percentage:.2f}%\")"
   ]
  },
  {
   "cell_type": "code",
   "execution_count": 14,
   "id": "f71c9feb",
   "metadata": {},
   "outputs": [],
   "source": [
    "numb_country = df['native-country'].nunique()\n",
    "\n",
    "total_count = df.groupby('native-country')['salary'].count()\n",
    "greater_50k_count = df[df['salary'] == '>50K'].groupby('native-country')['salary'].count()\n",
    "\n",
    "# Combine the results into a DataFrame\n",
    "country_stats = pd.DataFrame({\n",
    "    'total': total_count,\n",
    "    '>50K': greater_50k_count\n",
    "})"
   ]
  },
  {
   "cell_type": "code",
   "execution_count": 15,
   "id": "2c77f5dc",
   "metadata": {},
   "outputs": [
    {
     "name": "stdout",
     "output_type": "stream",
     "text": [
      "                            total    >50K  percentage\n",
      "native-country                                       \n",
      "?                             583   146.0   25.042882\n",
      "Cambodia                       19     7.0   36.842105\n",
      "Canada                        121    39.0   32.231405\n",
      "China                          75    20.0   26.666667\n",
      "Columbia                       59     2.0    3.389831\n",
      "Cuba                           95    25.0   26.315789\n",
      "Dominican-Republic             70     2.0    2.857143\n",
      "Ecuador                        28     4.0   14.285714\n",
      "El-Salvador                   106     9.0    8.490566\n",
      "England                        90    30.0   33.333333\n",
      "France                         29    12.0   41.379310\n",
      "Germany                       137    44.0   32.116788\n",
      "Greece                         29     8.0   27.586207\n",
      "Guatemala                      64     3.0    4.687500\n",
      "Haiti                          44     4.0    9.090909\n",
      "Holand-Netherlands              1     NaN         NaN\n",
      "Honduras                       13     1.0    7.692308\n",
      "Hong                           20     6.0   30.000000\n",
      "Hungary                        13     3.0   23.076923\n",
      "India                         100    40.0   40.000000\n",
      "Iran                           43    18.0   41.860465\n",
      "Ireland                        24     5.0   20.833333\n",
      "Italy                          73    25.0   34.246575\n",
      "Jamaica                        81    10.0   12.345679\n",
      "Japan                          62    24.0   38.709677\n",
      "Laos                           18     2.0   11.111111\n",
      "Mexico                        643    33.0    5.132193\n",
      "Nicaragua                      34     2.0    5.882353\n",
      "Outlying-US(Guam-USVI-etc)     14     NaN         NaN\n",
      "Peru                           31     2.0    6.451613\n",
      "Philippines                   198    61.0   30.808081\n",
      "Poland                         60    12.0   20.000000\n",
      "Portugal                       37     4.0   10.810811\n",
      "Puerto-Rico                   114    12.0   10.526316\n",
      "Scotland                       12     3.0   25.000000\n",
      "South                          80    16.0   20.000000\n",
      "Taiwan                         51    20.0   39.215686\n",
      "Thailand                       18     3.0   16.666667\n",
      "Trinadad&Tobago                19     2.0   10.526316\n",
      "United-States               29170  7171.0   24.583476\n",
      "Vietnam                        67     5.0    7.462687\n",
      "Yugoslavia                     16     6.0   37.500000\n"
     ]
    }
   ],
   "source": [
    "country_stats['percentage'] = (country_stats['>50K'] / country_stats['total']) * 100\n",
    "print(country_stats)\n"
   ]
  },
  {
   "cell_type": "code",
   "execution_count": 16,
   "id": "7b1e2f88",
   "metadata": {},
   "outputs": [
    {
     "name": "stdout",
     "output_type": "stream",
     "text": [
      "\n",
      "The country with the highest percentage of people earning >50K is Iran with 41.86%.\n"
     ]
    }
   ],
   "source": [
    "highest_percentage_country = country_stats['percentage'].idxmax()\n",
    "highest_percentage = country_stats['percentage'].max()\n",
    "print(f\"\\nThe country with the highest percentage of people earning >50K is {highest_percentage_country} with {highest_percentage:.2f}%.\")\n"
   ]
  },
  {
   "cell_type": "code",
   "execution_count": 17,
   "id": "8ec5ecdb",
   "metadata": {},
   "outputs": [
    {
     "name": "stdout",
     "output_type": "stream",
     "text": [
      "\n",
      "The most popular occupation for those who earn >50K in India is Prof-specialty.\n"
     ]
    }
   ],
   "source": [
    "india_high_earners = df[(df['salary'] == '>50K') & (df['native-country'] == 'India')]\n",
    "most_popular_occupation = india_high_earners['occupation'].mode()[0]\n",
    "print(f\"\\nThe most popular occupation for those who earn >50K in India is {most_popular_occupation}.\")"
   ]
  },
  {
   "cell_type": "code",
   "execution_count": null,
   "id": "622b266c",
   "metadata": {},
   "outputs": [],
   "source": []
  }
 ],
 "metadata": {
  "kernelspec": {
   "display_name": "Python 3",
   "language": "python",
   "name": "python3"
  },
  "language_info": {
   "codemirror_mode": {
    "name": "ipython",
    "version": 3
   },
   "file_extension": ".py",
   "mimetype": "text/x-python",
   "name": "python",
   "nbconvert_exporter": "python",
   "pygments_lexer": "ipython3",
   "version": "3.12.3"
  }
 },
 "nbformat": 4,
 "nbformat_minor": 5
}
